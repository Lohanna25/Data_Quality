{
 "cells": [
  {
   "cell_type": "code",
   "outputs": [],
   "source": [
    "import json\n",
    "import pandas as pd\n",
    "\n",
    "\n",
    "def flatten_json(json_obj, parent_key='', separator='.'):\n",
    "    \"\"\"\n",
    "    Aplana un objeto JSON anidado convirtiéndolo en un diccionario unidimensional.\n",
    "\n",
    "    Parámetros:\n",
    "    - json_obj (dict): El objeto JSON que se desea aplanar.\n",
    "    - parent_key (str): El prefijo utilizado para mantener un registro del \"padre\" de las claves.\n",
    "    - separator (str): El carácter utilizado para separar las claves en el nuevo diccionario.\n",
    "\n",
    "    Retorna:\n",
    "    - dict: Un diccionario unidimensional representando el objeto JSON aplanado.\n",
    "    \"\"\"\n",
    "    flattened = {}\n",
    "    for key, value in json_obj.items():\n",
    "        new_key = f\"{parent_key}{separator}{key}\" if parent_key else key\n",
    "        if isinstance(value, dict):\n",
    "            flattened.update(flatten_json(value, new_key, separator=separator))\n",
    "        else:\n",
    "            flattened[new_key] = value\n",
    "    return flattened\n",
    "\n",
    "# Ruta al archivo JSON\n",
    "archivo_json = 'taylor_swift_spotify.json'\n",
    "\n",
    "# Abrir y leer el archivo JSON\n",
    "with open(archivo_json, 'r', encoding='utf-8') as archivo:\n",
    "    datos = json.load(archivo)\n",
    "\n",
    "# Crear listas para almacenar los datos\n",
    "data_list = []\n",
    "\n",
    "# Iterar sobre los álbumes y las pistas\n",
    "for album in datos[\"albums\"]:\n",
    "    album_id = album[\"album_id\"]\n",
    "    album_name = album[\"album_name\"]\n",
    "    album_release_date = album[\"album_release_date\"]\n",
    "    album_total_tracks = album[\"album_total_tracks\"]\n",
    "\n",
    "    for track in album[\"tracks\"]:\n",
    "        # Aplanar la estructura anidada del objeto JSON\n",
    "        flattened_track = flatten_json(track)\n",
    "        flattened_album = flatten_json(album)\n",
    "        flattened_datos = flatten_json(datos)\n",
    "\n",
    "        # Agregar la información a la lista\n",
    "        flattened_track.update(flattened_album)\n",
    "        flattened_track.update(flattened_datos)\n",
    "        data_list.append(flattened_track)\n",
    "\n",
    "# Crear el DataFrame final\n",
    "df = pd.DataFrame(data_list)\n",
    "\n",
    "column_order = ['disc_number', 'duration_ms', 'explicit', 'track_number',\n",
    "                'track_popularity', 'track_id', 'track_name',\n",
    "                'audio_features.danceability', 'audio_features.energy',\n",
    "                'audio_features.key', 'audio_features.loudness', 'audio_features.mode',\n",
    "                'audio_features.speechiness', 'audio_features.acousticness',\n",
    "                'audio_features.instrumentalness', 'audio_features.liveness',\n",
    "                'audio_features.valence', 'audio_features.tempo', 'audio_features.id',\n",
    "                'audio_features.time_signature', 'artist_id', 'artist_name',\n",
    "                'artist_popularity', 'album_id', 'album_name', 'album_release_date',\n",
    "                'album_total_tracks']\n",
    "\n",
    "df = df[column_order]\n",
    "df.to_csv('dataset.csv', index= False)"
   ],
   "metadata": {
    "collapsed": false,
    "ExecuteTime": {
     "end_time": "2024-01-06T16:34:25.629964Z",
     "start_time": "2024-01-06T16:34:25.604355Z"
    }
   },
   "id": "2eafcf6022b38ff7",
   "execution_count": 24
  },
  {
   "cell_type": "code",
   "outputs": [],
   "source": [],
   "metadata": {
    "collapsed": false
   },
   "id": "ca0f235595d30507"
  }
 ],
 "metadata": {
  "kernelspec": {
   "display_name": "Python 3",
   "language": "python",
   "name": "python3"
  },
  "language_info": {
   "codemirror_mode": {
    "name": "ipython",
    "version": 2
   },
   "file_extension": ".py",
   "mimetype": "text/x-python",
   "name": "python",
   "nbconvert_exporter": "python",
   "pygments_lexer": "ipython2",
   "version": "2.7.6"
  }
 },
 "nbformat": 4,
 "nbformat_minor": 5
}
